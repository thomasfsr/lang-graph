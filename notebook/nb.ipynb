{
 "cells": [
  {
   "cell_type": "code",
   "execution_count": 2,
   "metadata": {},
   "outputs": [],
   "source": [
    "from langchain_openai.chat_models import ChatOpenAI\n",
    "from dotenv import load_dotenv\n",
    "import os\n",
    "\n",
    "load_dotenv()\n",
    "key = os.getenv('openai_key')\n",
    "\n",
    "gpt4 = \"gpt-4o-mini\"\n",
    "gpt3 = \"gpt-3.5-turbo\"\n",
    "llm = ChatOpenAI(api_key=key, model=gpt3, temperature=0)"
   ]
  },
  {
   "cell_type": "code",
   "execution_count": 3,
   "metadata": {},
   "outputs": [],
   "source": [
    "from typing import Annotated, List, Tuple, Union\n",
    "from langchain.tools import BaseTool, StructuredTool, Tool\n",
    "\n",
    "from langchain_experimental.tools import PythonREPLTool\n",
    "from langchain_core.tools import tool\n",
    "from langchain_core.utils.function_calling import convert_to_openai_function\n",
    "import random\n",
    "\n",
    "# This executes code locally, which can be unsafe\n",
    "python_repl = PythonREPLTool(return_direct=False\n",
    "                                  )\n",
    "repl_tool = Tool(\n",
    "    name=\"python_repl\",\n",
    "    description=\"A Python shell. Use this to execute python commands. Input should be a valid python command. If you want to see the output of a value, you should print it out with `print(...)`.\",\n",
    "    func=python_repl.run,\n",
    ")\n",
    "python_repl_tool = convert_to_openai_function(repl_tool)"
   ]
  },
  {
   "cell_type": "code",
   "execution_count": 4,
   "metadata": {},
   "outputs": [
    {
     "name": "stdout",
     "output_type": "stream",
     "text": [
      "A Python shell. Use this to execute python commands. Input should be a valid python command. If you want to see the output of a value, you should print it out with `print(...)`.\n"
     ]
    }
   ],
   "source": [
    "print(repl_tool.description)"
   ]
  },
  {
   "cell_type": "code",
   "execution_count": 14,
   "metadata": {},
   "outputs": [],
   "source": [
    "# my custom tools\n",
    "from langchain_core.pydantic_v1 import BaseModel, Field\n",
    "from typing import List\n",
    "\n",
    "class HistInput(BaseModel):\n",
    "    input_number:List[int] = Field(description='Should be a list of integer numbers')\n",
    "    bins:int = Field(description='interger number of the number of bins')\n",
    "\n",
    "class LowerCaseInput(BaseModel):\n",
    "    text:str = Field(description=\"A text that will be lower case\")\n",
    "\n",
    "@tool(\"hist\", return_direct=False, args_schema=HistInput)\n",
    "def hist(input_numbers:List[int], bins:int=10) -> None:\n",
    "  \"\"\"Plot the histogram of a given array and the number. For instance: 1,2,3\"\"\"\n",
    "  from matplotlib import pyplot as plt\n",
    "  bins = int(bins)\n",
    "  plt.hist(x=input_numbers, bins=bins)\n",
    "  plt.show()\n",
    "  return input_numbers\n",
    "\n",
    "@tool(\"lower_case\", return_direct=False, args_schema= LowerCaseInput)\n",
    "def to_lower_case(input:str) -> str:\n",
    "  \"\"\"Returns the input as all lower case.\"\"\"\n",
    "  return input.lower()\n",
    "\n",
    "@tool(\"random_number\", return_direct=False)\n",
    "def random_number_maker() -> str:\n",
    "    \"\"\"Returns a random number between 0-100. input the word 'random'\"\"\"\n",
    "    return random.randint(0, 100)\n",
    "\n",
    "tools = [to_lower_case, random_number_maker, hist]"
   ]
  },
  {
   "cell_type": "code",
   "execution_count": 15,
   "metadata": {},
   "outputs": [
    {
     "name": "stdout",
     "output_type": "stream",
     "text": [
      "{'input_number': {'title': 'Input Number', 'description': 'Should be a list of integer numbers', 'type': 'array', 'items': {'type': 'integer'}}, 'bins': {'title': 'Bins', 'description': 'interger number of the number of bins', 'type': 'integer'}}\n"
     ]
    }
   ],
   "source": [
    "print(hist.args)"
   ]
  },
  {
   "cell_type": "code",
   "execution_count": 16,
   "metadata": {},
   "outputs": [],
   "source": [
    "from langchain.agents import AgentExecutor, create_openai_tools_agent\n",
    "from langchain_core.messages import BaseMessage, HumanMessage\n",
    "from langchain_openai import ChatOpenAI\n",
    "from langchain_core.prompts.chat import ChatPromptTemplate, MessagesPlaceholder\n",
    "\n",
    "\n",
    "def create_agent(llm: ChatOpenAI, tools:list, system_prompt: str):\n",
    "    # Each worker node will be given a name and some tools.\n",
    "    prompt = ChatPromptTemplate.from_messages(\n",
    "        [\n",
    "            (\n",
    "                \"system\",\n",
    "                system_prompt,\n",
    "            ),\n",
    "            MessagesPlaceholder(variable_name=\"messages\"),\n",
    "            MessagesPlaceholder(variable_name=\"agent_scratchpad\"),\n",
    "        ]\n",
    "    )\n",
    "    agent = create_openai_tools_agent(llm, tools, prompt)\n",
    "    executor = AgentExecutor(agent=agent, tools=tools\n",
    "                            #  ,verbose=True,\n",
    "                             )\n",
    "    return executor"
   ]
  },
  {
   "cell_type": "code",
   "execution_count": 8,
   "metadata": {},
   "outputs": [
    {
     "name": "stdout",
     "output_type": "stream",
     "text": [
      "vamos la {content}\n",
      "vamos la motherfucker\n"
     ]
    }
   ],
   "source": [
    "teste = 'vamos la {content}'\n",
    "mfs = teste.format(content = 'motherfucker')\n",
    "print(teste)\n",
    "print(mfs)"
   ]
  },
  {
   "cell_type": "code",
   "execution_count": 9,
   "metadata": {},
   "outputs": [],
   "source": [
    "# agent node\n",
    "def agent_node(state, agent, name):\n",
    "    result = agent.invoke(state)\n",
    "    return {\"messages\": [HumanMessage(content=result[\"output\"], name=name)]}"
   ]
  },
  {
   "cell_type": "code",
   "execution_count": 10,
   "metadata": {},
   "outputs": [],
   "source": [
    "from langchain.output_parsers.openai_functions import JsonOutputFunctionsParser\n",
    "from langchain_core.prompts import ChatPromptTemplate, MessagesPlaceholder\n",
    "\n",
    "members = [\"Lotto_Manager\", \"Coder\"]\n",
    "system_prompt = (\n",
    "    \"You are a supervisor tasked with managing a conversation between the\"\n",
    "    \" following workers:  {members}. Given the following user request,\"\n",
    "    \" respond with the worker to act next. Each worker will perform a\"\n",
    "    \" task and respond with their results and status. When finished,\"\n",
    "    \" respond with FINISH.\"\n",
    ")\n",
    "# Our team supervisor is an LLM node. It just picks the next agent to process\n",
    "# and decides when the work is completed\n",
    "options = [\"FINISH\"] + members\n",
    "# Using openai function calling can make output parsing easier for us\n",
    "function_def = {\n",
    "    \"name\": \"route\",\n",
    "    \"description\": \"Select the next role.\",\n",
    "    \"parameters\": {\n",
    "        \"title\": \"routeSchema\",\n",
    "        \"type\": \"object\",\n",
    "        \"properties\": {\n",
    "            \"next\": {\n",
    "                \"title\": \"Next\",\n",
    "                \"anyOf\": [\n",
    "                    {\"enum\": options},\n",
    "                ],\n",
    "            }\n",
    "        },\n",
    "        \"required\": [\"next\"],\n",
    "    },\n",
    "}\n",
    "prompt = ChatPromptTemplate.from_messages(\n",
    "    [\n",
    "        (\"system\", system_prompt),\n",
    "        MessagesPlaceholder(variable_name=\"messages\"),\n",
    "        (\n",
    "            \"system\",\n",
    "            \"Given the conversation above, who should act next?\"\n",
    "            \" Or should we FINISH? Select one of: {options}\",\n",
    "        ),\n",
    "    ]\n",
    ").partial(options=str(options), members=\", \".join(members))\n",
    "\n",
    "\n",
    "supervisor_chain = (\n",
    "    prompt\n",
    "    | llm.bind_functions(functions=[function_def], function_call=\"route\")\n",
    "    | JsonOutputFunctionsParser()\n",
    ")"
   ]
  },
  {
   "cell_type": "code",
   "execution_count": 26,
   "metadata": {},
   "outputs": [],
   "source": [
    "from langchain_core.tools import tool\n",
    "from typing import List, Type\n",
    "import random\n",
    "from langchain.pydantic_v1 import BaseModel, Field\n",
    "from langchain.tools import BaseTool\n",
    "\n",
    "## Schemas:\n",
    "\n",
    "class HistInput(BaseModel):\n",
    "    input_number:List[int] = Field(description='Should be a list of integer numbers')\n",
    "    bins:int = Field(description='interger number of the number of bins')\n",
    "\n",
    "class LowerCaseInput(BaseModel):\n",
    "    text:str = Field(description=\"A text that will be lower case\")\n",
    "\n",
    "## Tools:\n",
    "\n",
    "class HistTool(BaseTool):\n",
    "    name = 'hist_tool'\n",
    "    description=\"\"\"Plot the histogram of a given array and the number. For instance: 1,2,3\"\"\"\n",
    "    args_schema: Type[BaseModel] = HistInput\n",
    "\n",
    "    def _run(self,\n",
    "             input_numbers:List[int],\n",
    "             bins: int\n",
    "             ) -> List[int]:\n",
    "        from matplotlib import pyplot as plt\n",
    "        plt.hist(x=input_numbers, bins=bins)\n",
    "        plt.show()\n",
    "        return input_numbers\n",
    "\n",
    "class RandomTool(BaseTool):\n",
    "    name='random_tool'\n",
    "    description=\"\"\"Returns a random number between 0-100. input the word 'random'\"\"\"\n",
    "\n",
    "    def _run(self) -> int:\n",
    "        return random.randint(0, 100)\n",
    "\n",
    "class LowerCaseTool(BaseTool):\n",
    "    name = 'lower_case_tool'\n",
    "    description= 'Returns the input as all lower case.'\n",
    "    args_schema: Type[BaseModel] = LowerCaseInput\n",
    "    def _run(self,\n",
    "             text:str\n",
    "             ) -> str:\n",
    "        return text.lower()"
   ]
  },
  {
   "cell_type": "code",
   "execution_count": 27,
   "metadata": {},
   "outputs": [],
   "source": [
    "import operator\n",
    "from typing import Annotated, Any, Dict, List, Optional, Sequence, TypedDict\n",
    "import functools\n",
    "\n",
    "from langchain_core.prompts import ChatPromptTemplate, MessagesPlaceholder\n",
    "from langgraph.graph import StateGraph, END\n",
    "\n",
    "\n",
    "# The agent state is the input to each node in the graph\n",
    "class AgentState(TypedDict):\n",
    "    # The annotation tells the graph that new messages will always\n",
    "    # be added to the current states\n",
    "    messages: Annotated[Sequence[BaseMessage], operator.add]\n",
    "    # The 'next' field indicates where to route to next\n",
    "    next: str\n",
    "\n",
    "\n",
    "lotto_agent = create_agent(llm,tools =[RandomTool()], system_prompt= \"You are a senior lotto manager. you run the lotto and get random numbers.\")\n",
    "lotto_node = functools.partial(agent_node, agent=lotto_agent, name=\"Lotto_Manager\")\n",
    "\n",
    "hist_agent = create_agent(llm, tools=[HistTool()], system_prompt= \"You may generate as list and a number of bins for the tool to plot a histogram.\")\n",
    "hist_node = functools.partial(agent_node, agent=hist_agent, name=\"Coder\")\n",
    "\n",
    "# code_agent = create_agent(llm, tools=[repl_tool],system_prompt= \"You may generate safe python code to analyze data and generate charts using matplotlib.\")\n",
    "# code_node = functools.partial(agent_node, agent=code_agent, name=\"Coder\")\n",
    "\n",
    "workflow = StateGraph(AgentState)\n",
    "workflow.add_node(\"Lotto_Manager\", lotto_node)\n",
    "workflow.add_node(\"Coder\", hist_node)\n",
    "workflow.add_node(\"supervisor\", supervisor_chain)"
   ]
  },
  {
   "cell_type": "code",
   "execution_count": 28,
   "metadata": {},
   "outputs": [
    {
     "name": "stdout",
     "output_type": "stream",
     "text": [
      "{\n",
      "    \"Lotto_Manager\": \"Lotto_Manager\",\n",
      "    \"Coder\": \"Coder\",\n",
      "    \"FINISH\": \"__end__\"\n",
      "}\n"
     ]
    }
   ],
   "source": [
    "import json\n",
    "for member in members:\n",
    "    # We want our workers to ALWAYS \"report back\" to the supervisor when done\n",
    "    workflow.add_edge(member, \"supervisor\") # add one edge for each of the agents\n",
    "# The supervisor populates the \"next\" field in the graph state\n",
    "# which routes to a node or finishes\n",
    "conditional_map = {k: k for k in members}\n",
    "conditional_map[\"FINISH\"] = END\n",
    "print(json.dumps(conditional_map, indent=4, default= str))\n",
    "workflow.add_conditional_edges(\"supervisor\", lambda x: x[\"next\"], conditional_map)\n",
    "# Finally, add entrypoint\n",
    "workflow.set_entry_point(\"supervisor\")\n",
    "\n",
    "from langgraph.checkpoint.memory import MemorySaver\n",
    "\n",
    "memory = MemorySaver()\n",
    "\n",
    "graph = workflow.compile(checkpointer=memory)"
   ]
  },
  {
   "cell_type": "code",
   "execution_count": 23,
   "metadata": {},
   "outputs": [
    {
     "data": {
      "image/jpeg": "[encoded data removed]",
      "text/plain": [
       "<IPython.core.display.Image object>"
      ]
     },
     "execution_count": 23,
     "metadata": {},
     "output_type": "execute_result"
    }
   ],
   "source": [
    "from IPython.display import Image\n",
    "Image(graph.get_graph().draw_mermaid_png())"
   ]
  },
  {
   "cell_type": "code",
   "execution_count": 29,
   "metadata": {},
   "outputs": [],
   "source": [
    "thread1 = {\"configurable\": {\"thread_id\": \"2\"}}\n",
    "final_response = graph.invoke(input=\n",
    "    {\n",
    "        \"messages\": [\n",
    "            HumanMessage(content=\"\"\"Get 5 random lotto numbers and plot them on a histogram in \n",
    "                         3 bins\n",
    "                          and tell me what the \n",
    "                         5 numbers are at the end\"\"\")\n",
    "        ]\n",
    "    },\n",
    "    config= thread1\n",
    ")"
   ]
  },
  {
   "cell_type": "code",
   "execution_count": 30,
   "metadata": {},
   "outputs": [
    {
     "name": "stdout",
     "output_type": "stream",
     "text": [
      "[\n",
      "    {\n",
      "        \"messages\": [\n",
      "            \"content='Get 5 random lotto numbers and plot them on a histogram in \\\\n                         3 bins\\\\n                          and tell me what the \\\\n                         5 numbers are at the end'\",\n",
      "            \"content=\\\"The 5 random lotto numbers are: 9, 40, 71, 24, 45.\\\\n\\\\nNow, let's plot these numbers on a histogram with 3 bins.\\\\nHere is the histogram with the 5 random lotto numbers (9, 40, 71, 24, 45) plotted in 3 bins:\\\\n\\\\n- Bin 1: 9, 24\\\\n- Bin 2: 40, 45\\\\n- Bin 3: 71\\\" name='Lotto_Manager'\"\n",
      "        ],\n",
      "        \"next\": \"FINISH\"\n",
      "    },\n",
      "    [],\n",
      "    {\n",
      "        \"configurable\": {\n",
      "            \"thread_id\": \"2\",\n",
      "            \"checkpoint_ns\": \"\",\n",
      "            \"checkpoint_id\": \"1ef64b2c-4aca-6eea-8003-c10a49d564c9\"\n",
      "        }\n",
      "    },\n",
      "    {\n",
      "        \"source\": \"loop\",\n",
      "        \"writes\": {\n",
      "            \"supervisor\": {\n",
      "                \"next\": \"FINISH\"\n",
      "            }\n",
      "        },\n",
      "        \"step\": 3\n",
      "    },\n",
      "    \"2024-08-27T20:27:23.838231+00:00\",\n",
      "    {\n",
      "        \"configurable\": {\n",
      "            \"thread_id\": \"2\",\n",
      "            \"checkpoint_ns\": \"\",\n",
      "            \"checkpoint_id\": \"1ef64b2c-45b7-63f6-8002-2b0170da8fde\"\n",
      "        }\n",
      "    }\n",
      "]\n"
     ]
    }
   ],
   "source": [
    "final_response\n",
    "\n",
    "import json\n",
    "print(\n",
    "    json.dumps(graph.get_state(thread1), \n",
    "           indent=4, \n",
    "           default=str\n",
    "           )\n",
    ")"
   ]
  },
  {
   "cell_type": "code",
   "execution_count": 91,
   "metadata": {},
   "outputs": [
    {
     "name": "stdout",
     "output_type": "stream",
     "text": [
      "{'next': 'Lotto_Manager'}\n",
      "{'messages': [HumanMessage(content=\"The 10 random lotto numbers are: 42, 95, 81, 0, 17, 6, 33, 54, 15, 81.\\n\\nNow, let's plot these numbers on a histogram with 5 bins.\\nHere is the histogram plot of the 10 random lotto numbers in 5 bins:\\n\\n```\\n0-20: ██\\n20-40: █\\n40-60: ██\\n60-80: \\n80-100: ██\\n``` \\n\\nThe numbers are: 42, 95, 81, 0, 17, 6, 33, 54, 15, 81.\", name='Lotto_Manager')]}\n",
      "{'next': 'FINISH'}\n"
     ]
    }
   ],
   "source": [
    "msg =  [HumanMessage(content='''Get 10 random lotto numbers\n",
    "                    and plot them on a histogram in 5 bins\n",
    "                    and tell me what the 10 numbers are at the end''')]\n",
    "\n",
    "thread2 = {\"configurable\": {\"thread_id\": \"2\"}}\n",
    "\n",
    "for event in graph.stream({\"messages\": msg}, thread2):\n",
    "    for v in event.values():\n",
    "        print(v)"
   ]
  },
  {
   "cell_type": "code",
   "execution_count": 95,
   "metadata": {},
   "outputs": [
    {
     "name": "stdout",
     "output_type": "stream",
     "text": [
      "[\n",
      "    {\n",
      "        \"messages\": [\n",
      "            \"content='Get 10 random lotto numbers\\\\n                    and plot them on a histogram in 5 bins\\\\n                    and tell me what the 10 numbers are at the end'\",\n",
      "            \"content=\\\"The 10 random lotto numbers are: 42, 95, 81, 0, 17, 6, 33, 54, 15, 81.\\\\n\\\\nNow, let's plot these numbers on a histogram with 5 bins.\\\\nHere is the histogram plot of the 10 random lotto numbers in 5 bins:\\\\n\\\\n```\\\\n0-20: \\u2588\\u2588\\\\n20-40: \\u2588\\\\n40-60: \\u2588\\u2588\\\\n60-80: \\\\n80-100: \\u2588\\u2588\\\\n``` \\\\n\\\\nThe numbers are: 42, 95, 81, 0, 17, 6, 33, 54, 15, 81.\\\" name='Lotto_Manager'\"\n",
      "        ],\n",
      "        \"next\": \"FINISH\"\n",
      "    },\n",
      "    [],\n",
      "    {\n",
      "        \"configurable\": {\n",
      "            \"thread_id\": \"2\",\n",
      "            \"checkpoint_ns\": \"\",\n",
      "            \"checkpoint_id\": \"1ef64086-f233-6fb3-8003-0022fd7ffa99\"\n",
      "        }\n",
      "    },\n",
      "    {\n",
      "        \"source\": \"loop\",\n",
      "        \"writes\": {\n",
      "            \"supervisor\": {\n",
      "                \"next\": \"FINISH\"\n",
      "            }\n",
      "        },\n",
      "        \"step\": 3\n",
      "    },\n",
      "    \"2024-08-27T00:08:05.887173+00:00\",\n",
      "    {\n",
      "        \"configurable\": {\n",
      "            \"thread_id\": \"2\",\n",
      "            \"checkpoint_ns\": \"\",\n",
      "            \"checkpoint_id\": \"1ef64086-eae3-662c-8002-d84e5396ac31\"\n",
      "        }\n",
      "    }\n",
      "]\n"
     ]
    }
   ],
   "source": [
    "import json\n",
    "print(\n",
    "    json.dumps(graph.get_state(thread2), \n",
    "           indent=4, \n",
    "           default=str\n",
    "           )\n",
    ")"
   ]
  },
  {
   "cell_type": "code",
   "execution_count": 97,
   "metadata": {},
   "outputs": [
    {
     "name": "stdout",
     "output_type": "stream",
     "text": [
      "StateSnapshot(values={'messages': [HumanMessage(content='Get 10 random lotto numbers\\n                    and plot them on a histogram in 5 bins\\n                    and tell me what the 10 numbers are at the end'), HumanMessage(content=\"The 10 random lotto numbers are: 42, 95, 81, 0, 17, 6, 33, 54, 15, 81.\\n\\nNow, let's plot these numbers on a histogram with 5 bins.\\nHere is the histogram plot of the 10 random lotto numbers in 5 bins:\\n\\n```\\n0-20: ██\\n20-40: █\\n40-60: ██\\n60-80: \\n80-100: ██\\n``` \\n\\nThe numbers are: 42, 95, 81, 0, 17, 6, 33, 54, 15, 81.\", name='Lotto_Manager')], 'next': 'FINISH'}, next=(), config={'configurable': {'thread_id': '2', 'checkpoint_ns': '', 'checkpoint_id': '1ef64086-f233-6fb3-8003-0022fd7ffa99'}}, metadata={'source': 'loop', 'writes': {'supervisor': {'next': 'FINISH'}}, 'step': 3}, created_at='2024-08-27T00:08:05.887173+00:00', parent_config={'configurable': {'thread_id': '2', 'checkpoint_ns': '', 'checkpoint_id': '1ef64086-eae3-662c-8002-d84e5396ac31'}})\n",
      "{\n",
      "    \"messages\": [\n",
      "        \"content='Get 10 random lotto numbers\\\\n                    and plot them on a histogram in 5 bins\\\\n                    and tell me what the 10 numbers are at the end'\",\n",
      "        \"content=\\\"The 10 random lotto numbers are: 42, 95, 81, 0, 17, 6, 33, 54, 15, 81.\\\\n\\\\nNow, let's plot these numbers on a histogram with 5 bins.\\\\nHere is the histogram plot of the 10 random lotto numbers in 5 bins:\\\\n\\\\n```\\\\n0-20: \\u2588\\u2588\\\\n20-40: \\u2588\\\\n40-60: \\u2588\\u2588\\\\n60-80: \\\\n80-100: \\u2588\\u2588\\\\n``` \\\\n\\\\nThe numbers are: 42, 95, 81, 0, 17, 6, 33, 54, 15, 81.\\\" name='Lotto_Manager'\"\n",
      "    ],\n",
      "    \"next\": \"FINISH\"\n",
      "}\n",
      "StateSnapshot(values={'messages': [HumanMessage(content='Get 10 random lotto numbers\\n                    and plot them on a histogram in 5 bins\\n                    and tell me what the 10 numbers are at the end'), HumanMessage(content=\"The 10 random lotto numbers are: 42, 95, 81, 0, 17, 6, 33, 54, 15, 81.\\n\\nNow, let's plot these numbers on a histogram with 5 bins.\\nHere is the histogram plot of the 10 random lotto numbers in 5 bins:\\n\\n```\\n0-20: ██\\n20-40: █\\n40-60: ██\\n60-80: \\n80-100: ██\\n``` \\n\\nThe numbers are: 42, 95, 81, 0, 17, 6, 33, 54, 15, 81.\", name='Lotto_Manager')], 'next': 'Lotto_Manager'}, next=('supervisor',), config={'configurable': {'thread_id': '2', 'checkpoint_ns': '', 'checkpoint_id': '1ef64086-eae3-662c-8002-d84e5396ac31'}}, metadata={'source': 'loop', 'writes': {'Lotto_Manager': {'messages': [HumanMessage(content=\"The 10 random lotto numbers are: 42, 95, 81, 0, 17, 6, 33, 54, 15, 81.\\n\\nNow, let's plot these numbers on a histogram with 5 bins.\\nHere is the histogram plot of the 10 random lotto numbers in 5 bins:\\n\\n```\\n0-20: ██\\n20-40: █\\n40-60: ██\\n60-80: \\n80-100: ██\\n``` \\n\\nThe numbers are: 42, 95, 81, 0, 17, 6, 33, 54, 15, 81.\", name='Lotto_Manager')]}}, 'step': 2}, created_at='2024-08-27T00:08:05.120158+00:00', parent_config={'configurable': {'thread_id': '2', 'checkpoint_ns': '', 'checkpoint_id': '1ef64086-bac6-601e-8001-13a913dee9a1'}})\n",
      "{\n",
      "    \"messages\": [\n",
      "        \"content='Get 10 random lotto numbers\\\\n                    and plot them on a histogram in 5 bins\\\\n                    and tell me what the 10 numbers are at the end'\",\n",
      "        \"content=\\\"The 10 random lotto numbers are: 42, 95, 81, 0, 17, 6, 33, 54, 15, 81.\\\\n\\\\nNow, let's plot these numbers on a histogram with 5 bins.\\\\nHere is the histogram plot of the 10 random lotto numbers in 5 bins:\\\\n\\\\n```\\\\n0-20: \\u2588\\u2588\\\\n20-40: \\u2588\\\\n40-60: \\u2588\\u2588\\\\n60-80: \\\\n80-100: \\u2588\\u2588\\\\n``` \\\\n\\\\nThe numbers are: 42, 95, 81, 0, 17, 6, 33, 54, 15, 81.\\\" name='Lotto_Manager'\"\n",
      "    ],\n",
      "    \"next\": \"Lotto_Manager\"\n",
      "}\n",
      "StateSnapshot(values={'messages': [HumanMessage(content='Get 10 random lotto numbers\\n                    and plot them on a histogram in 5 bins\\n                    and tell me what the 10 numbers are at the end')], 'next': 'Lotto_Manager'}, next=('Lotto_Manager',), config={'configurable': {'thread_id': '2', 'checkpoint_ns': '', 'checkpoint_id': '1ef64086-bac6-601e-8001-13a913dee9a1'}}, metadata={'source': 'loop', 'writes': {'supervisor': {'next': 'Lotto_Manager'}}, 'step': 1}, created_at='2024-08-27T00:08:00.074959+00:00', parent_config={'configurable': {'thread_id': '2', 'checkpoint_ns': '', 'checkpoint_id': '1ef64086-b0e6-6872-8000-3bd44ec50802'}})\n",
      "{\n",
      "    \"messages\": [\n",
      "        \"content='Get 10 random lotto numbers\\\\n                    and plot them on a histogram in 5 bins\\\\n                    and tell me what the 10 numbers are at the end'\"\n",
      "    ],\n",
      "    \"next\": \"Lotto_Manager\"\n",
      "}\n",
      "StateSnapshot(values={'messages': [HumanMessage(content='Get 10 random lotto numbers\\n                    and plot them on a histogram in 5 bins\\n                    and tell me what the 10 numbers are at the end')]}, next=('supervisor',), config={'configurable': {'thread_id': '2', 'checkpoint_ns': '', 'checkpoint_id': '1ef64086-b0e6-6872-8000-3bd44ec50802'}}, metadata={'source': 'loop', 'writes': None, 'step': 0}, created_at='2024-08-27T00:07:59.039704+00:00', parent_config={'configurable': {'thread_id': '2', 'checkpoint_ns': '', 'checkpoint_id': '1ef64086-b0df-6335-bfff-8979b0d3dd41'}})\n",
      "{\n",
      "    \"messages\": [\n",
      "        \"content='Get 10 random lotto numbers\\\\n                    and plot them on a histogram in 5 bins\\\\n                    and tell me what the 10 numbers are at the end'\"\n",
      "    ]\n",
      "}\n",
      "StateSnapshot(values={'messages': []}, next=('__start__',), config={'configurable': {'thread_id': '2', 'checkpoint_ns': '', 'checkpoint_id': '1ef64086-b0df-6335-bfff-8979b0d3dd41'}}, metadata={'source': 'input', 'writes': {'messages': [HumanMessage(content='Get 10 random lotto numbers\\n                    and plot them on a histogram in 5 bins\\n                    and tell me what the 10 numbers are at the end')]}, 'step': -1}, created_at='2024-08-27T00:07:59.036702+00:00', parent_config=None)\n",
      "{\n",
      "    \"messages\": []\n",
      "}\n"
     ]
    }
   ],
   "source": [
    "for state in graph.get_state_history(thread2):\n",
    "    print(state)\n",
    "    print(json.dumps(state.values, indent=4, default= str))"
   ]
  }
 ],
 "metadata": {
  "kernelspec": {
   "display_name": ".venv",
   "language": "python",
   "name": "python3"
  },
  "language_info": {
   "codemirror_mode": {
    "name": "ipython",
    "version": 3
   },
   "file_extension": ".py",
   "mimetype": "text/x-python",
   "name": "python",
   "nbconvert_exporter": "python",
   "pygments_lexer": "ipython3",
   "version": "3.12.0"
  }
 },
 "nbformat": 4,
 "nbformat_minor": 2
}
